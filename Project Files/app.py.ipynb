{
 "cells": [
  {
   "cell_type": "code",
   "execution_count": null,
   "id": "05d762bf-688f-4125-aa2a-11045b2c5f6a",
   "metadata": {},
   "outputs": [
    {
     "name": "stdout",
     "output_type": "stream",
     "text": [
      " * Serving Flask app '__main__'\n",
      " * Debug mode: on\n"
     ]
    },
    {
     "name": "stderr",
     "output_type": "stream",
     "text": [
      "WARNING: This is a development server. Do not use it in a production deployment. Use a production WSGI server instead.\n",
      " * Running on http://127.0.0.1:5000\n",
      "Press CTRL+C to quit\n"
     ]
    }
   ],
   "source": [
    "# ---\n",
    "# jupyter:\n",
    "#   jupytext:\n",
    "#     text_representation:\n",
    "#       extension: .py\n",
    "#       format_name: percent\n",
    "#       format_version: '1.3'\n",
    "#       jupytext_version: 1.17.2\n",
    "#   kernelspec:\n",
    "#     display_name: Python [conda env:base] *\n",
    "#     language: python\n",
    "#     name: conda-base-py\n",
    "# ---\n",
    "\n",
    "# %%\n",
    "import numpy as np\n",
    "import pickle\n",
    "import joblib\n",
    "import matplotlib.pyplot as plt\n",
    "import time\n",
    "import pandas\n",
    "import os\n",
    "from flask import Flask, request, jsonify, render_template\n",
    "\n",
    "app=Flask(__name__)\n",
    "model=pickle.load(open(\"model.pkl\",'rb'))\n",
    "scale = pickle.load(open('encoder.pkl','rb'))\n",
    "\n",
    "@app.route(\"/\")\n",
    "def home():\n",
    "    return render_template(\"home.html\")\n",
    "\n",
    "@app.route(\"/predict\")\n",
    "def predict():\n",
    "    return render_template(\"web_page.html\")\n",
    "\n",
    "@app.route(\"/about\")\n",
    "def about():\n",
    "    return render_template(\"about.html\")\n",
    "\n",
    "@app.route(\"/result\",methods=[\"POST\"])\n",
    "def result():\n",
    "    input_feature=[float(x)for x in request.form.values()]\n",
    "    features_values=[np.array(input_feature[0:11])]\n",
    "    # features = features_values[:7]\n",
    "    # print(features)\n",
    "    names = [['holiday','temp','rain','snow','weather','year','month','day','hours','minutes','seconds']]\n",
    "    data = pandas.DataFrame(features_values, columns=names)\n",
    "    # data = scale.fit_transform(data)\n",
    "    # data = pandas.DataFrame(data, columns = names)\n",
    "    prediction=model.predict(data)\n",
    "    print(prediction)\n",
    "    text = \"Estimated Traffic Volume is :\"\n",
    "    return render_template(\"result.html\" ,prediction_text = text + str(prediction))\n",
    "\n",
    "\n",
    "if __name__==\"__main__\":\n",
    "    # port=8000, debug=True)\n",
    "   \n",
    "    app.run(debug=True,use_reloader=False)\n",
    "# * running the app\n",
    "\n",
    "# %%\n",
    "\n",
    "\n",
    "# %%\n",
    "import os\n",
    "os.getcwd()\n",
    "\n",
    "# %%"
   ]
  },
  {
   "cell_type": "code",
   "execution_count": null,
   "id": "d2171bda-8b5a-45e5-bb9b-db8063bd9f65",
   "metadata": {},
   "outputs": [],
   "source": []
  }
 ],
 "metadata": {
  "kernelspec": {
   "display_name": "Python [conda env:base] *",
   "language": "python",
   "name": "conda-base-py"
  },
  "language_info": {
   "codemirror_mode": {
    "name": "ipython",
    "version": 3
   },
   "file_extension": ".py",
   "mimetype": "text/x-python",
   "name": "python",
   "nbconvert_exporter": "python",
   "pygments_lexer": "ipython3",
   "version": "3.12.7"
  }
 },
 "nbformat": 4,
 "nbformat_minor": 5
}
